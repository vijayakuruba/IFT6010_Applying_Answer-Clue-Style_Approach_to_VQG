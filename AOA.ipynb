{
  "nbformat": 4,
  "nbformat_minor": 0,
  "metadata": {
    "colab": {
      "name": "AOA.ipynb",
      "provenance": [],
      "collapsed_sections": [],
      "toc_visible": true,
      "machine_shape": "hm",
      "authorship_tag": "ABX9TyP8roldUsD5vZvJobKHlPbH",
      "include_colab_link": true
    },
    "kernelspec": {
      "display_name": "Python 3",
      "name": "python3"
    },
    "language_info": {
      "name": "python"
    },
    "accelerator": "GPU"
  },
  "cells": [
    {
      "cell_type": "markdown",
      "metadata": {
        "id": "view-in-github",
        "colab_type": "text"
      },
      "source": [
        "<a href=\"https://colab.research.google.com/github/vijayakuruba/IFT6010_Applying_Answer-Clue-Style_Approach_to_VQG/blob/main/AOA.ipynb\" target=\"_parent\"><img src=\"https://colab.research.google.com/assets/colab-badge.svg\" alt=\"Open In Colab\"/></a>"
      ]
    },
    {
      "cell_type": "code",
      "metadata": {
        "id": "QWRuqP2qVpMK"
      },
      "source": [
        "mkdir data/bu_data; cd data/bu_data\n",
        "wget https://storage.googleapis.com/bottom-up-attention/trainval.zip\n",
        "unzip trainval.zip"
      ],
      "execution_count": null,
      "outputs": []
    },
    {
      "cell_type": "code",
      "metadata": {
        "colab": {
          "base_uri": "https://localhost:8080/"
        },
        "id": "Y58bhvs0Vr6S",
        "outputId": "6107d42f-f48f-44ec-b636-c11397671118"
      },
      "source": [
        "%cd /content/drive/My Drive/IFT6010/AoANet/data/bu_data"
      ],
      "execution_count": null,
      "outputs": [
        {
          "output_type": "stream",
          "text": [
            "[Errno 2] No such file or directory: '/content/drive/My Drive/IFT6010/AoANet/data/bu_data'\n",
            "/content\n"
          ],
          "name": "stdout"
        }
      ]
    },
    {
      "cell_type": "code",
      "metadata": {
        "id": "0onjTA7IJGTh",
        "colab": {
          "base_uri": "https://localhost:8080/"
        },
        "outputId": "9b76114b-5ec6-452e-f902-10cef2ae7378"
      },
      "source": [
        "from google.colab import drive\n",
        "drive.mount('/content/drive')\n",
        "%cd /content/drive/My Drive/IFT6010/AoANet/\n",
        "!ls"
      ],
      "execution_count": null,
      "outputs": [
        {
          "output_type": "stream",
          "text": [
            "Drive already mounted at /content/drive; to attempt to forcibly remount, call drive.mount(\"/content/drive\", force_remount=True).\n",
            "/content/drive/My Drive/IFT6010/AoANet\n",
            " ADVANCED.md\t    eval.py\t\t misc\t        test-last.sh\n",
            " cider\t\t   'evaluation (1).sh'\t models         train.py\n",
            " coco-caption\t    evaluation.sh\t opts.py        train.sh\n",
            " data\t\t    eval_utils.py\t __pycache__    train-wo-refining.sh\n",
            " dataloader.py\t    LICENSE\t\t README.md      vis\n",
            " dataloaderraw.py   log\t\t\t scripts\n",
            " eval_ensemble.py   log_aoanet_rl\t test-best.sh\n"
          ],
          "name": "stdout"
        }
      ]
    },
    {
      "cell_type": "code",
      "metadata": {
        "colab": {
          "base_uri": "https://localhost:8080/"
        },
        "id": "oYME_3JZ4tm2",
        "outputId": "06dd5097-0f2a-4789-8b5d-74d0fb9ff465"
      },
      "source": [
        "cd /content/drive/My Drive/IFT6010/AoANet/data/"
      ],
      "execution_count": null,
      "outputs": [
        {
          "output_type": "stream",
          "text": [
            "/content/drive/My Drive/IFT6010/AoANet/data\n"
          ],
          "name": "stdout"
        }
      ]
    },
    {
      "cell_type": "code",
      "metadata": {
        "colab": {
          "base_uri": "https://localhost:8080/"
        },
        "id": "6entzV2RVvA0",
        "outputId": "6f8e0054-62e1-498e-b15e-76b332794bda"
      },
      "source": [
        "! wget https://storage.googleapis.com/up-down-attention/trainval.zip "
      ],
      "execution_count": null,
      "outputs": [
        {
          "output_type": "stream",
          "text": [
            "--2021-04-01 16:56:47--  https://storage.googleapis.com/up-down-attention/trainval.zip\n",
            "Resolving storage.googleapis.com (storage.googleapis.com)... 108.177.127.128, 74.125.143.128, 173.194.79.128, ...\n",
            "Connecting to storage.googleapis.com (storage.googleapis.com)|108.177.127.128|:443... connected.\n",
            "HTTP request sent, awaiting response... 200 OK\n",
            "Length: 23710752348 (22G) [application/zip]\n",
            "Saving to: ‘trainval.zip.1’\n",
            "\n",
            "trainval.zip.1      100%[===================>]  22.08G  58.7MB/s    in 7m 0s   \n",
            "\n",
            "2021-04-01 17:03:47 (53.8 MB/s) - ‘trainval.zip.1’ saved [23710752348/23710752348]\n",
            "\n"
          ],
          "name": "stdout"
        }
      ]
    },
    {
      "cell_type": "code",
      "metadata": {
        "colab": {
          "base_uri": "https://localhost:8080/"
        },
        "id": "ZJUFVay07XbT",
        "outputId": "b11f2745-3f5c-4ab0-cbbf-8e1b59a004c5"
      },
      "source": [
        "!unzip -u \"trainval.zip\" -d \"/content/drive/My Drive/IFT6010/AoANet/data/bu_data\""
      ],
      "execution_count": null,
      "outputs": [
        {
          "output_type": "stream",
          "text": [
            "Archive:  trainval.zip\n",
            "  inflating: /content/drive/My Drive/IFT6010/AoANet/data/bu_data/trainval/karpathy_test_resnet101_faster_rcnn_genome.tsv  \n",
            "  inflating: /content/drive/My Drive/IFT6010/AoANet/data/bu_data/trainval/karpathy_train_resnet101_faster_rcnn_genome.tsv.0  \n",
            "  inflating: /content/drive/My Drive/IFT6010/AoANet/data/bu_data/trainval/karpathy_train_resnet101_faster_rcnn_genome.tsv.1  \n",
            "  inflating: /content/drive/My Drive/IFT6010/AoANet/data/bu_data/trainval/karpathy_val_resnet101_faster_rcnn_genome.tsv  \n"
          ],
          "name": "stdout"
        }
      ]
    },
    {
      "cell_type": "code",
      "metadata": {
        "id": "3t4oxIOxarvK",
        "colab": {
          "base_uri": "https://localhost:8080/",
          "height": 229
        },
        "outputId": "40c00dbc-e566-48b1-8dec-a746d6ea71ed"
      },
      "source": [
        "from PIL import Image\n",
        "import json\n",
        "import os\n",
        "\n",
        "cocotalk_dir = '/content/drive/MyDrive/IFT6010/AoANet/data/cocotalk.json'\n",
        "with open(cocotalk_dir, 'r') as c:\n",
        "    cocotalk = json.load(c)\n",
        "test_images = os.listdir('/content/drive/MyDrive/IFT6010/AoANet/data/test_images/val2014')\n",
        "images = []\n",
        "for img in test_images:\n",
        "    tmp = {}\n",
        "    tmp[\"split\"] = \"test\"\n",
        "    tmp[\"file_path\"] = \"val2014\\\\\" + str(img)\n",
        "    image_id = img.split('_')[2]\n",
        "    image_id = int(image_id.lstrip(\"0\").split('.')[0])\n",
        "    tmp[\"id\"] = image_id\n",
        "    with Image.open(os.path.join('/content/drive/MyDrive/IFT6010/AoANet/data/test_images/val2014', img)) as im:\n",
        "        tmp['width'], tmp['height'] = im.size\n",
        "    images.append(tmp)\n",
        "\n",
        "cocotalk_test = {}\n",
        "cocotalk_test[\"ix_to_word\"] = cocotalk['ix_to_word']\n",
        "cocotalk_test[\"images\"] = images\n",
        "\n",
        "with open('/content/drive/MyDrive/IFT6010/AoANet/data/cocotalk_test.json', 'w') as w:\n",
        "    json.dump(cocotalk_test, w)"
      ],
      "execution_count": null,
      "outputs": [
        {
          "output_type": "error",
          "ename": "IndexError",
          "evalue": "ignored",
          "traceback": [
            "\u001b[0;31m---------------------------------------------------------------------------\u001b[0m",
            "\u001b[0;31mIndexError\u001b[0m                                Traceback (most recent call last)",
            "\u001b[0;32m<ipython-input-43-13a9b285a62a>\u001b[0m in \u001b[0;36m<module>\u001b[0;34m()\u001b[0m\n\u001b[1;32m     12\u001b[0m     \u001b[0mtmp\u001b[0m\u001b[0;34m[\u001b[0m\u001b[0;34m\"split\"\u001b[0m\u001b[0;34m]\u001b[0m \u001b[0;34m=\u001b[0m \u001b[0;34m\"test\"\u001b[0m\u001b[0;34m\u001b[0m\u001b[0;34m\u001b[0m\u001b[0m\n\u001b[1;32m     13\u001b[0m     \u001b[0mtmp\u001b[0m\u001b[0;34m[\u001b[0m\u001b[0;34m\"file_path\"\u001b[0m\u001b[0;34m]\u001b[0m \u001b[0;34m=\u001b[0m \u001b[0;34m\"val2014\\\\\"\u001b[0m \u001b[0;34m+\u001b[0m \u001b[0mstr\u001b[0m\u001b[0;34m(\u001b[0m\u001b[0mimg\u001b[0m\u001b[0;34m)\u001b[0m\u001b[0;34m\u001b[0m\u001b[0;34m\u001b[0m\u001b[0m\n\u001b[0;32m---> 14\u001b[0;31m     \u001b[0mimage_id\u001b[0m \u001b[0;34m=\u001b[0m \u001b[0mimg\u001b[0m\u001b[0;34m.\u001b[0m\u001b[0msplit\u001b[0m\u001b[0;34m(\u001b[0m\u001b[0;34m'_'\u001b[0m\u001b[0;34m)\u001b[0m\u001b[0;34m[\u001b[0m\u001b[0;36m2\u001b[0m\u001b[0;34m]\u001b[0m\u001b[0;34m\u001b[0m\u001b[0;34m\u001b[0m\u001b[0m\n\u001b[0m\u001b[1;32m     15\u001b[0m     \u001b[0mimage_id\u001b[0m \u001b[0;34m=\u001b[0m \u001b[0mint\u001b[0m\u001b[0;34m(\u001b[0m\u001b[0mimage_id\u001b[0m\u001b[0;34m.\u001b[0m\u001b[0mlstrip\u001b[0m\u001b[0;34m(\u001b[0m\u001b[0;34m\"0\"\u001b[0m\u001b[0;34m)\u001b[0m\u001b[0;34m.\u001b[0m\u001b[0msplit\u001b[0m\u001b[0;34m(\u001b[0m\u001b[0;34m'.'\u001b[0m\u001b[0;34m)\u001b[0m\u001b[0;34m[\u001b[0m\u001b[0;36m0\u001b[0m\u001b[0;34m]\u001b[0m\u001b[0;34m)\u001b[0m\u001b[0;34m\u001b[0m\u001b[0;34m\u001b[0m\u001b[0m\n\u001b[1;32m     16\u001b[0m     \u001b[0mtmp\u001b[0m\u001b[0;34m[\u001b[0m\u001b[0;34m\"id\"\u001b[0m\u001b[0;34m]\u001b[0m \u001b[0;34m=\u001b[0m \u001b[0mimage_id\u001b[0m\u001b[0;34m\u001b[0m\u001b[0;34m\u001b[0m\u001b[0m\n",
            "\u001b[0;31mIndexError\u001b[0m: list index out of range"
          ]
        }
      ]
    },
    {
      "cell_type": "code",
      "metadata": {
        "colab": {
          "base_uri": "https://localhost:8080/"
        },
        "id": "V8PP3RcEGxWc",
        "outputId": "80f43d85-aac4-48e1-febb-22f3cfa042b8"
      },
      "source": [
        "! chmod 777 /content/drive/MyDrive/IFT6010/AoANet/scripts/make_bu_data.py \n",
        "! /content/drive/MyDrive/IFT6010/AoANet/scripts/make_bu_data.py --output_dir /content/drive/MyDrive/IFT6010/AoANet/data/cocobu"
      ],
      "execution_count": null,
      "outputs": [
        {
          "output_type": "stream",
          "text": [
            "from: can't read /var/mail/__future__\n",
            "from: can't read /var/mail/__future__\n",
            "from: can't read /var/mail/__future__\n",
            "/content/drive/MyDrive/IFT6010/AoANet/scripts/make_bu_data.py: line 4: $'\\r': command not found\n",
            "/content/drive/MyDrive/IFT6010/AoANet/scripts/make_bu_data.py: line 5: import: command not found\n",
            "/content/drive/MyDrive/IFT6010/AoANet/scripts/make_bu_data.py: line 6: import: command not found\n",
            "/content/drive/MyDrive/IFT6010/AoANet/scripts/make_bu_data.py: line 7: import: command not found\n",
            "/content/drive/MyDrive/IFT6010/AoANet/scripts/make_bu_data.py: line 8: import: command not found\n",
            "/content/drive/MyDrive/IFT6010/AoANet/scripts/make_bu_data.py: line 9: import: command not found\n",
            "/content/drive/MyDrive/IFT6010/AoANet/scripts/make_bu_data.py: line 10: import: command not found\n",
            "/content/drive/MyDrive/IFT6010/AoANet/scripts/make_bu_data.py: line 11: import: command not found\n",
            "/content/drive/MyDrive/IFT6010/AoANet/scripts/make_bu_data.py: line 12: import: command not found\n",
            "/content/drive/MyDrive/IFT6010/AoANet/scripts/make_bu_data.py: line 13: import: command not found\n",
            "/content/drive/MyDrive/IFT6010/AoANet/scripts/make_bu_data.py: line 14: $'\\r': command not found\n",
            "/content/drive/MyDrive/IFT6010/AoANet/scripts/make_bu_data.py: line 15: syntax error near unexpected token `('\n",
            "/content/drive/MyDrive/IFT6010/AoANet/scripts/make_bu_data.py: line 15: `parser = argparse.ArgumentParser()\r'\n"
          ],
          "name": "stdout"
        }
      ]
    },
    {
      "cell_type": "code",
      "metadata": {
        "colab": {
          "base_uri": "https://localhost:8080/"
        },
        "id": "hSh6CCj4JHPD",
        "outputId": "15ce9f28-7abe-4cbd-ef1f-8a80dbc0756e"
      },
      "source": [
        "%cd /content/drive/My Drive/IFT6010/AoANet/scripts\n",
        "%ls"
      ],
      "execution_count": null,
      "outputs": [
        {
          "output_type": "stream",
          "text": [
            "/content/drive/My Drive/IFT6010/AoANet/scripts\n",
            "build_bpe_subword_nmt.py  \u001b[0m\u001b[01;32mevaluation.sh\u001b[0m*   prepro_labels.py\n",
            "copy_model.sh             make_bu_data.py  prepro_ngrams.py\n",
            "dump_to_lmdb.py           prepro_feats.py  prepro_reference_json.py\n"
          ],
          "name": "stdout"
        }
      ]
    },
    {
      "cell_type": "code",
      "metadata": {
        "colab": {
          "base_uri": "https://localhost:8080/"
        },
        "id": "Rhrav4L-JN9G",
        "outputId": "6fe4f6db-8ec8-44ff-9236-15f758021dac"
      },
      "source": [
        "! chmod 777 ./evaluation.sh\n",
        "! ./evaluation.sh"
      ],
      "execution_count": null,
      "outputs": [
        {
          "output_type": "stream",
          "text": [
            "Reading trainval/karpathy_test_resnet101_faster_rcnn_genome.tsv\n",
            "make_bu_data.py:44: DeprecationWarning: decodestring() is a deprecated alias since Python 3.1, use decodebytes()\n",
            "  item[field] = np.frombuffer(base64.decodestring(item[field].encode()),\n",
            "Reading trainval/karpathy_val_resnet101_faster_rcnn_genome.tsv\n",
            "Reading trainval/karpathy_train_resnet101_faster_rcnn_genome.tsv.0\n",
            "Reading trainval/karpathy_train_resnet101_faster_rcnn_genome.tsv.1\n"
          ],
          "name": "stdout"
        }
      ]
    },
    {
      "cell_type": "code",
      "metadata": {
        "id": "W5xs23r6iI-4",
        "colab": {
          "base_uri": "https://localhost:8080/"
        },
        "outputId": "28569b9d-dbcc-4f06-afe2-e0e35719c3ba"
      },
      "source": [
        "%cd /content/drive/My Drive/IFT6010/AoANet/\n",
        "%ls"
      ],
      "execution_count": null,
      "outputs": [
        {
          "output_type": "stream",
          "text": [
            "/content/drive/My Drive/IFT6010/AoANet\n",
            " ADVANCED.md        eval.py              \u001b[0m\u001b[01;34mmisc\u001b[0m/          test-last.sh\n",
            " \u001b[01;34mcider\u001b[0m/            'evaluation (1).sh'   \u001b[01;34mmodels\u001b[0m/        train.py\n",
            " \u001b[01;34mcoco-caption\u001b[0m/      \u001b[01;32mevaluation.sh\u001b[0m*       opts.py        train.sh\n",
            " \u001b[01;34mdata\u001b[0m/              eval_utils.py        \u001b[01;34m__pycache__\u001b[0m/   train-wo-refining.sh\n",
            " dataloader.py      LICENSE              README.md      \u001b[01;34mvis\u001b[0m/\n",
            " dataloaderraw.py   \u001b[01;34mlog\u001b[0m/                 \u001b[01;34mscripts\u001b[0m/\n",
            " eval_ensemble.py   \u001b[01;34mlog_aoanet_rl\u001b[0m/       test-best.sh\n"
          ],
          "name": "stdout"
        }
      ]
    },
    {
      "cell_type": "code",
      "metadata": {
        "colab": {
          "base_uri": "https://localhost:8080/"
        },
        "id": "ZE-3oYt2ijJg",
        "outputId": "a9242cb2-3d9c-4bbc-b6a1-c452ed8811c0"
      },
      "source": [
        "! chmod 777 ./evaluation.sh\n",
        "! ./evaluation.sh"
      ],
      "execution_count": null,
      "outputs": [
        {
          "output_type": "stream",
          "text": [
            "/content/drive/MyDrive/IFT6010/AoANet/log_aoanet_rl/infos_aoanet.pkl\n",
            "DataLoader loading json file:  /content/drive/MyDrive/IFT6010/AoANet/data/cocotalk_test.json\n",
            "vocab size is  10369\n",
            "DataLoader loading h5 file:  data/cocobu_fc data/cocobu_att data/cocobu_box data/cocotalk_label.h5\n",
            "max sequence length in data is 16\n",
            "read 44 image features\n",
            "assigned 0 images to split train\n",
            "assigned 0 images to split val\n",
            "assigned 44 images to split test\n",
            "a red and white plane flying in the sky\n",
            "a red and white airplane flying in the sky\n",
            "--------------------\n",
            "image 9426: a red and white plane flying in the sky\n",
            "evaluating validation preformance... 0/44 (0.000000)\n",
            "a silver fire hydrant on the side of a street\n",
            "a fire hydrant on the side of a street\n",
            "--------------------\n",
            "image 29913: a silver fire hydrant on the side of a street\n",
            "evaluating validation preformance... 1/44 (0.000000)\n",
            "a kitchen with a stove and a sink\n",
            "a kitchen with a stove and a refrigerator\n",
            "--------------------\n",
            "image 403013: a kitchen with a stove and a sink\n",
            "evaluating validation preformance... 2/44 (0.000000)\n",
            "a woman riding a bike down a street\n",
            "a woman riding a bike down a city street\n",
            "--------------------\n",
            "image 321107: a woman riding a bike down a street\n",
            "evaluating validation preformance... 3/44 (0.000000)\n",
            "a giraffe standing in a field with other animals\n",
            "a giraffe standing next to a group of zebras\n",
            "--------------------\n",
            "image 73830: a giraffe standing in a field with other animals\n",
            "evaluating validation preformance... 4/44 (0.000000)\n",
            "a building with a clock tower on top of it\n",
            "a tall building with a clock tower on top of it\n",
            "--------------------\n",
            "image 462341: a building with a clock tower on top of it\n",
            "evaluating validation preformance... 5/44 (0.000000)\n",
            "a cat sitting on top of a wooden tire\n",
            "a cat sitting on top of a wooden structure\n",
            "--------------------\n",
            "image 117407: a cat sitting on top of a wooden tire\n",
            "evaluating validation preformance... 6/44 (0.000000)\n",
            "a row of parking meters on the side of a street\n",
            "a row of parking meters on a street\n",
            "--------------------\n",
            "image 556616: a row of parking meters on the side of a street\n",
            "evaluating validation preformance... 7/44 (0.000000)\n",
            "a bird perched on top of a tree branch\n",
            "a small bird perched on top of a tree branch\n",
            "--------------------\n",
            "image 95022: a bird perched on top of a tree branch\n",
            "evaluating validation preformance... 8/44 (0.000000)\n",
            "an airplane parked on the tarmac at an airport\n",
            "a large airplane parked on top of an airport runway\n",
            "--------------------\n",
            "image 52759: an airplane parked on the tarmac at an airport\n",
            "evaluating validation preformance... 9/44 (0.000000)\n",
            "a bathroom with a bath tub and a sink\n",
            "a bathroom with a tub and a sink\n",
            "--------------------\n",
            "image 472621: a bathroom with a bath tub and a sink\n",
            "evaluating validation preformance... 10/44 (0.000000)\n",
            "a bathroom with a toilet and a sink\n",
            "a bathroom with a toilet and a wall\n",
            "--------------------\n",
            "image 360772: a bathroom with a toilet and a sink\n",
            "evaluating validation preformance... 11/44 (0.000000)\n",
            "a black cat sitting on top of a toilet\n",
            "a black cat standing on top of a toilet\n",
            "--------------------\n",
            "image 241876: a black cat sitting on top of a toilet\n",
            "evaluating validation preformance... 12/44 (0.000000)\n",
            "a white car stopped at a traffic light on a city street\n",
            "a white car stopped at a traffic light on a street\n",
            "--------------------\n",
            "image 128939: a white car stopped at a traffic light on a city street\n",
            "evaluating validation preformance... 13/44 (0.000000)\n",
            "a traffic light and a street sign on a city street\n",
            "a traffic light and a green street sign on a street\n",
            "--------------------\n",
            "image 339974: a traffic light and a street sign on a city street\n",
            "evaluating validation preformance... 14/44 (0.000000)\n",
            "a city street with cars and a traffic light\n",
            "a city street with tall buildings and a traffic light\n",
            "--------------------\n",
            "image 242139: a city street with cars and a traffic light\n",
            "evaluating validation preformance... 15/44 (0.000000)\n",
            "a small airplane sitting on top of an airport runway\n",
            "a small plane sitting on top of an airport runway\n",
            "--------------------\n",
            "image 78371: a small airplane sitting on top of an airport runway\n",
            "evaluating validation preformance... 16/44 (0.000000)\n",
            "a bathroom with a tub and a sink\n",
            "a bathroom with a tub and a sink and a shower\n",
            "--------------------\n",
            "image 129001: a bathroom with a tub and a sink\n",
            "evaluating validation preformance... 17/44 (0.000000)\n",
            "a blue bird perched on top of a tree branch\n",
            "a bird perched on top of a tree branch\n",
            "--------------------\n",
            "image 15113: a blue bird perched on top of a tree branch\n",
            "evaluating validation preformance... 18/44 (0.000000)\n",
            "a person standing next to a train at a train station\n",
            "a person standing next to a blue train at a train station\n",
            "--------------------\n",
            "image 231163: a person standing next to a train at a train station\n",
            "evaluating validation preformance... 19/44 (0.000000)\n",
            "a bathroom with a sink and a shower\n",
            "a bathroom with a sink and a mirror\n",
            "--------------------\n",
            "image 340559: a bathroom with a sink and a shower\n",
            "evaluating validation preformance... 20/44 (0.000000)\n",
            "a stop sign with graffiti on the side of it\n",
            "a stop sign with graffiti on it on a street\n",
            "--------------------\n",
            "image 463633: a stop sign with graffiti on the side of it\n",
            "evaluating validation preformance... 21/44 (0.000000)\n",
            "a street sign on top of a pole\n",
            "a street sign on the side of a street\n",
            "--------------------\n",
            "image 176649: a street sign on top of a pole\n",
            "evaluating validation preformance... 22/44 (0.000000)\n",
            "a double decker bus driving down a city street\n",
            "a white double decker bus driving down a city street\n",
            "--------------------\n",
            "image 460347: a double decker bus driving down a city street\n",
            "evaluating validation preformance... 23/44 (0.000000)\n",
            "a herd of sheep standing in a field\n",
            "a herd of sheep grazing in a field\n",
            "--------------------\n",
            "image 173574: a herd of sheep standing in a field\n",
            "evaluating validation preformance... 24/44 (0.000000)\n",
            "a train traveling over a bridge over the ocean\n",
            "a train traveling over a bridge over the water\n",
            "--------------------\n",
            "image 329486: a train traveling over a bridge over the ocean\n",
            "evaluating validation preformance... 25/44 (0.000000)\n",
            "two giraffes standing next to each other in a field\n",
            "two giraffes are standing next to each other in a field\n",
            "--------------------\n",
            "image 40102: two giraffes standing next to each other in a field\n",
            "evaluating validation preformance... 26/44 (0.000000)\n",
            "a blue street sign in front of a building\n",
            "a blue sign in front of a building\n",
            "--------------------\n",
            "image 125997: a blue street sign in front of a building\n",
            "evaluating validation preformance... 27/44 (0.000000)\n",
            "a giraffe laying on the ground in a zoo\n",
            "a giraffe laying on the ground in front of a building\n",
            "--------------------\n",
            "image 403020: a giraffe laying on the ground in a zoo\n",
            "evaluating validation preformance... 28/44 (0.000000)\n",
            "a yellow and blue fire hydrant on the side of a street\n",
            "a yellow fire hydrant on the side of a street\n",
            "--------------------\n",
            "image 332654: a yellow and blue fire hydrant on the side of a street\n",
            "evaluating validation preformance... 29/44 (0.000000)\n",
            "a group of children standing next to a bucket with a bat\n",
            "a group of children playing with a bucket on the beach\n",
            "--------------------\n",
            "image 488693: a group of children standing next to a bucket with a bat\n",
            "evaluating validation preformance... 30/44 (0.000000)\n",
            "a bunch of bananas in a bag on a table\n",
            "a bunch of bananas sitting in a bag\n",
            "--------------------\n",
            "image 74331: a bunch of bananas in a bag on a table\n",
            "evaluating validation preformance... 31/44 (0.000000)\n",
            "a blue bus parked next to a street sign\n",
            "a blue bus parked next to a pole\n",
            "--------------------\n",
            "image 143931: a blue bus parked next to a street sign\n",
            "evaluating validation preformance... 32/44 (0.000000)\n",
            "a young child standing next to a parking meter\n",
            "a child standing next to a parking meter\n",
            "--------------------\n",
            "image 522778: a young child standing next to a parking meter\n",
            "evaluating validation preformance... 33/44 (0.000000)\n",
            "a woman sitting at a desk with a laptop computer\n",
            "a woman sitting at a table with a laptop computer\n",
            "--------------------\n",
            "image 386912: a woman sitting at a desk with a laptop computer\n",
            "evaluating validation preformance... 34/44 (0.000000)\n",
            "a blue truck with a man on the top of it\n",
            "a blue truck with a surfboard on top of it\n",
            "--------------------\n",
            "image 310391: a blue truck with a man on the top of it\n",
            "evaluating validation preformance... 35/44 (0.000000)\n",
            "a dog and a cat laying on a couch\n",
            "a dog and a cat laying on top of a couch\n",
            "--------------------\n",
            "image 219578: a dog and a cat laying on a couch\n",
            "evaluating validation preformance... 36/44 (0.000000)\n",
            "two giraffes standing next to each other in a field\n",
            "two giraffes are standing next to each other in a field\n",
            "--------------------\n",
            "image 505440: two giraffes standing next to each other in a field\n",
            "evaluating validation preformance... 37/44 (0.000000)\n",
            "a street signs on a pole next to a traffic light\n",
            "a street sign on a pole next to a traffic light\n",
            "--------------------\n",
            "image 144053: a street signs on a pole next to a traffic light\n",
            "evaluating validation preformance... 38/44 (0.000000)\n",
            "a little girl holding a cat in her hand\n",
            "a little girl holding a cat in a street\n",
            "--------------------\n",
            "image 562150: a little girl holding a cat in her hand\n",
            "evaluating validation preformance... 39/44 (0.000000)\n",
            "a banana with a red apple on top of it\n",
            "a banana and an apple on top of a yellow toilet\n",
            "--------------------\n",
            "image 364521: a banana with a red apple on top of it\n",
            "evaluating validation preformance... 40/44 (0.000000)\n",
            "a cat and two dogs sitting on a red boat\n",
            "a cat and a dog sitting on a red boat\n",
            "--------------------\n",
            "image 183757: a cat and two dogs sitting on a red boat\n",
            "evaluating validation preformance... 41/44 (0.000000)\n",
            "a woman riding a motorcycle down a street\n",
            "a woman riding a motorcycle down a city street\n",
            "--------------------\n",
            "image 268556: a woman riding a motorcycle down a street\n",
            "evaluating validation preformance... 42/44 (0.000000)\n",
            "a red fire hydrant sitting on the side of a street\n",
            "a red fire hydrant is on the side of a street\n",
            "--------------------\n",
            "image 431573: a red fire hydrant sitting on the side of a street\n",
            "evaluating validation preformance... -1/44 (0.000000)\n",
            "loss:  0.0\n",
            "Terminating BlobFetcher\n"
          ],
          "name": "stdout"
        }
      ]
    }
  ]
}